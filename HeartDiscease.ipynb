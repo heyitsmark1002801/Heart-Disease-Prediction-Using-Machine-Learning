import numpy as np
import pandas as pd
from sklearn.model_selection import train_test_split
from sklearn.preprocessing import StandardScaler
from sklearn.svm import SVC
from sklearn.neural_network import MLPClassifier
from sklearn.metrics import accuracy_score

# Load the heart disease dataset
data_url = "http://archive.ics.uci.edu/ml/machine-learning-databases/heart-disease/processed.cleveland.data"
features = ['age', 'sex', 'chest_pain', 'resting_blood_pressure', 'cholesterol', 'fasting_blood_sugar', 'rest_ecg', 'max_heart_rate', 'exercise_induced_angina', 'st_depression', 'st_slope', 'num_major_vessels', 'thalassemia', 'target']
heart_data = pd.read_csv(data_url, names=features)

# Preprocess the data
heart_data.replace('?', np.nan, inplace=True)
heart_data.dropna(inplace=True)
heart_data = heart_data.astype({'sex': int, 'chest_pain': int, 'fasting_blood_sugar': int, 'rest_ecg': int, 'exercise_induced_angina': int, 'st_slope': int})
heart_data['thalassemia'] = pd.to_numeric(heart_data['thalassemia'], errors='coerce').fillna(0).astype(int)
heart_data['target'] = heart_data['target'].astype(int)

# Split the dataset into features and target variable
X_features = heart_data.drop('target', axis=1)
Y_target = heart_data['target']

# Split the data into train and test sets
X_train_data, X_test_data, Y_train_target, Y_test_target = train_test_split(X_features, Y_target, test_size=0.2, random_state=42)

# Standardize the features
data_scaler = StandardScaler()
X_train_scaled = data_scaler.fit_transform(X_train_data)
X_test_scaled = data_scaler.transform(X_test_data)

# Define functions to train SVM and Neural Network
def train_svm_model(X_train, Y_train, X_test, Y_test, kernel):
    svm_classifier = SVC(kernel=kernel)
    svm_classifier.fit(X_train, Y_train)
    return accuracy_score(Y_test, svm_classifier.predict(X_test))

def train_nn_model(X_train, Y_train, X_test, Y_test, optimizer):
    nn_classifier = MLPClassifier(hidden_layer_sizes=(100, 50), max_iter=1000, solver=optimizer, random_state=42)
    nn_classifier.fit(X_train, Y_train)
    return accuracy_score(Y_test, nn_classifier.predict(X_test))

# Train SVM with different kernels and record accuracies
svm_kernels = ['linear', 'rbf', 'sigmoid']
svm_accuracies = [train_svm_model(X_train_scaled, Y_train_target, X_test_scaled, Y_test_target, kernel) for kernel in svm_kernels]

# Train Neural Network with different optimizers and record accuracies
nn_optimizers = ['sgd', 'adam']
nn_accuracies = [train_nn_model(X_train_scaled, Y_train_target, X_test_scaled, Y_test_target, optimizer) for optimizer in nn_optimizers]

# Print out the accuracies
print("Support Vector Machine Accuracies with Different Kernels:")
for kernel, accuracy in zip(svm_kernels, svm_accuracies):
    print(f"{kernel.capitalize()} Kernel Accuracy: {accuracy:.4f}")

print("\nNeural Network Accuracies with Different Optimizers:")
for optimizer, accuracy in zip(nn_optimizers, nn_accuracies):
    print(f"{optimizer.upper()} Optimizer Accuracy: {accuracy:.4f}")
